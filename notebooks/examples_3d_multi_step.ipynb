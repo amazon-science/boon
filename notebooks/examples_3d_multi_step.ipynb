{
 "cells": [
  {
   "cell_type": "code",
   "execution_count": 1,
   "id": "385b82a3",
   "metadata": {},
   "outputs": [],
   "source": [
    "import torch\n",
    "import torch.nn as nn\n",
    "import torch.nn.functional as F\n",
    "\n",
    "import os\n",
    "import sys\n",
    "import numpy as np\n",
    "from scipy.io import loadmat\n",
    "import matplotlib.pyplot as plt\n",
    "from functools import reduce, partial\n",
    "from timeit import default_timer\n",
    "\n",
    "from src.utils.utils import *\n",
    "from src.models.base import FNO3d\n",
    "from src.models.multi_step import BOON_FNO3d"
   ]
  },
  {
   "cell_type": "code",
   "execution_count": 2,
   "id": "cc6ad850",
   "metadata": {},
   "outputs": [],
   "source": [
    "torch.manual_seed(0)\n",
    "np.random.seed(0)"
   ]
  },
  {
   "cell_type": "code",
   "execution_count": 3,
   "id": "2a30370c",
   "metadata": {},
   "outputs": [],
   "source": [
    "device = torch.device(\"cuda:0\" if torch.cuda.is_available() else \"cpu\")"
   ]
  },
  {
   "cell_type": "markdown",
   "id": "a173177d",
   "metadata": {},
   "source": [
    "# Dirichlet"
   ]
  },
  {
   "cell_type": "code",
   "execution_count": 4,
   "id": "bcc2cdc4",
   "metadata": {},
   "outputs": [],
   "source": [
    "ntrain = 1000\n",
    "ntest = 200\n",
    "\n",
    "modes = 8\n",
    "width = 20\n",
    "\n",
    "batch_size = 10\n",
    "batch_size2 = batch_size\n",
    "\n",
    "epochs = 500\n",
    "learning_rate = 0.001\n",
    "scheduler_step = 100\n",
    "scheduler_gamma = 0.5\n",
    "\n",
    "sub = 2\n",
    "N = 100 // sub #total grid size divided by the subsampling rate\n",
    "S = N\n",
    "\n",
    "T_in = 1\n",
    "T = 25"
   ]
  },
  {
   "cell_type": "code",
   "execution_count": 5,
   "id": "fb45335c",
   "metadata": {},
   "outputs": [],
   "source": [
    "data_a = np.load('Data/3D/NV_new/data_initial_samples1200.npy')\n",
    "data_u = np.load('Data/3D/NV_new/data_vorticity_Re100_Tfinal1_dt_001_samples1200.npy')\n",
    "\n",
    "train_a = data_a[:ntrain,::sub, ::sub,:T_in]\n",
    "train_a = train_a.astype(np.float32)\n",
    "train_a = torch.from_numpy(train_a)\n",
    "\n",
    "train_u = data_u[:ntrain,-T*4+1::4,::sub, ::sub]\n",
    "train_u = train_u.astype(np.float32)\n",
    "train_u = torch.from_numpy(train_u).permute(0, 2, 3, 1)\n",
    "\n",
    "test_a = data_a[-ntest:,::sub, ::sub,:T_in]\n",
    "test_a = test_a.astype(np.float32)\n",
    "test_a = torch.from_numpy(test_a)\n",
    "\n",
    "test_u = data_u[-ntest:,-T*4+1::4,::sub, ::sub]\n",
    "test_u = test_u.astype(np.float32)\n",
    "test_u = torch.from_numpy(test_u).permute(0, 2, 3, 1)"
   ]
  },
  {
   "cell_type": "code",
   "execution_count": 6,
   "id": "3ddc17dd",
   "metadata": {},
   "outputs": [],
   "source": [
    "train_a = train_a.reshape(ntrain,S,S,1,T_in).repeat([1,1,1,T,1])\n",
    "test_a = test_a.reshape(ntest,S,S,1,T_in).repeat([1,1,1,T,1])\n",
    "\n",
    "train_loader = torch.utils.data.DataLoader(torch.utils.data.TensorDataset(train_a, train_u), batch_size=batch_size, shuffle=True)\n",
    "test_loader = torch.utils.data.DataLoader(torch.utils.data.TensorDataset(test_a, test_u), batch_size=batch_size, shuffle=False)"
   ]
  },
  {
   "cell_type": "code",
   "execution_count": 7,
   "id": "4474187e",
   "metadata": {},
   "outputs": [],
   "source": [
    "base_no = FNO3d(modes, modes, modes, width)\n",
    "model = BOON_FNO3d(width,\n",
    "                    base_no,\n",
    "                    bdy_type = 'dirichlet').to(device)"
   ]
  },
  {
   "cell_type": "code",
   "execution_count": null,
   "id": "17d9014b",
   "metadata": {},
   "outputs": [],
   "source": [
    "optimizer = torch.optim.Adam(model.parameters(), lr=learning_rate, weight_decay=1e-4)\n",
    "scheduler = torch.optim.lr_scheduler.StepLR(optimizer, step_size=scheduler_step, gamma=scheduler_gamma)\n",
    "\n",
    "myloss = LpLoss(size_average=False)\n",
    "for ep in range(epochs):\n",
    "    model.train()\n",
    "    t1 = default_timer()\n",
    "    train_l2 = 0\n",
    "    for x, y in train_loader:\n",
    "        bs, nx, ny, T, _ = x.shape\n",
    "        x, y = x.to(device), y.to(device)\n",
    "\n",
    "        optimizer.zero_grad()\n",
    "        \n",
    "        bdy_left  = y[:, 0, :, :].reshape(bs, 1, ny, T) # add extra dimension to take care of \n",
    "#                                                         model channel structure\n",
    "        bdy_right = y[:,-1, :, :].reshape(bs, 1, ny, T)\n",
    "        bdy_top   = y[:, :, 0, :].reshape(bs, 1, nx, T)\n",
    "        bdy_down  = y[:, :,-1, :].reshape(bs, 1, nx, T)\n",
    "        \n",
    "        out = model(x, \n",
    "                    bdy_left = {'val':bdy_left}, \n",
    "                    bdy_right = {'val':bdy_right}, \n",
    "                    bdy_top = {'val':bdy_top}, \n",
    "                    bdy_down = {'val':bdy_down}\n",
    "                ).view(bs, S, S, T)\n",
    "\n",
    "        l2 = myloss(out.view(bs, -1), y.view(bs, -1))\n",
    "        l2.backward()\n",
    "\n",
    "        optimizer.step()\n",
    "        train_l2 += l2.item()\n",
    "\n",
    "    scheduler.step()\n",
    "\n",
    "    model.eval()\n",
    "    test_l2 = 0.0\n",
    "    with torch.no_grad():\n",
    "        for x, y in test_loader:\n",
    "            bs, nx, ny, T, _ = x.shape\n",
    "            x, y = x.to(device), y.to(device)\n",
    "            \n",
    "            bdy_left  = y[:, 0, :, :].reshape(bs, 1, ny, T) # add extra dimension to take care of \n",
    "#                                                         model channel structure\n",
    "            bdy_right = y[:,-1, :, :].reshape(bs, 1, ny, T)\n",
    "            bdy_top   = y[:, :, 0, :].reshape(bs, 1, nx, T)\n",
    "            bdy_down  = y[:, :,-1, :].reshape(bs, 1, nx, T)\n",
    "\n",
    "            out = model(x,\n",
    "                    bdy_left = {'val':bdy_left}, \n",
    "                    bdy_right = {'val':bdy_right}, \n",
    "                     bdy_top = {'val':bdy_top}, \n",
    "                    bdy_down = {'val':bdy_down}\n",
    "                ).view(bs, S, S, T)\n",
    "            test_l2 += myloss(out.view(bs, -1), y.view(bs, -1)).item()\n",
    "\n",
    "    train_l2 /= ntrain\n",
    "    test_l2 /= ntest\n",
    "\n",
    "    t2 = default_timer()\n",
    "    print(ep, t2-t1, train_l2, test_l2)\n",
    "# torch.save(model, path_model)"
   ]
  },
  {
   "cell_type": "code",
   "execution_count": null,
   "id": "ef7af4c7",
   "metadata": {},
   "outputs": [],
   "source": []
  }
 ],
 "metadata": {
  "kernelspec": {
   "display_name": "pyt111",
   "language": "python",
   "name": "pyt111"
  },
  "language_info": {
   "codemirror_mode": {
    "name": "ipython",
    "version": 3
   },
   "file_extension": ".py",
   "mimetype": "text/x-python",
   "name": "python",
   "nbconvert_exporter": "python",
   "pygments_lexer": "ipython3",
   "version": "3.8.13"
  }
 },
 "nbformat": 4,
 "nbformat_minor": 5
}
